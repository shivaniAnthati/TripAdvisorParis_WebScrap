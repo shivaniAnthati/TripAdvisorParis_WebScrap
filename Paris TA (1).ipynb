{
 "cells": [
  {
   "cell_type": "code",
   "execution_count": 1,
   "id": "b75add2b-faea-473a-a8e2-c153cfda4a6b",
   "metadata": {},
   "outputs": [],
   "source": [
    "import requests\n",
    "import pandas as pd\n",
    "from bs4 import BeautifulSoup as BS\n",
    "import csv\n"
   ]
  },
  {
   "cell_type": "code",
   "execution_count": 3,
   "id": "fc4c541d-6d21-4bf9-8635-7759945c44ca",
   "metadata": {},
   "outputs": [
    {
     "name": "stdout",
     "output_type": "stream",
     "text": [
      "<Response [200]>\n"
     ]
    }
   ],
   "source": [
    "url=\"https://www.tripadvisor.in/Hotels-g187147-Paris_Ile_de_France-Hotels.html\"\n",
    "headers = {\n",
    "    'User-Agent': 'Mozilla/5.0 (Windows NT 10.0; Win64; x64) AppleWebKit/537.36 (KHTML, like Gecko) Chrome/128.0.0.0 Safari/537.36',\n",
    "     'Referer': 'https://www.google.com/',\n",
    "    'Accept-Language': 'en-US,en;q=0.9',\n",
    "    'Connection': 'keep-alive'\n",
    "}\n",
    "data=requests.get(url,headers=headers)\n",
    "print(data)\n",
    "soup=BS(data.content,'html.parser')"
   ]
  },
  {
   "cell_type": "code",
   "execution_count": null,
   "id": "25f3d568-b8df-41d1-bbcf-b93a17d5370f",
   "metadata": {},
   "outputs": [],
   "source": []
  },
  {
   "cell_type": "code",
   "execution_count": 18,
   "id": "b7a0e3e2-e19d-4287-a6ba-d200d34db17b",
   "metadata": {},
   "outputs": [
    {
     "name": "stdout",
     "output_type": "stream",
     "text": [
      "['https://www.tripadvisor.in/Hotel_Review-g187147-d228694-Reviews-Hotel_Malte_Astotel-Paris_Ile_de_France.html', 'https://www.tripadvisor.in/Hotel_Review-g187147-d228694-Reviews-Hotel_Malte_Astotel-Paris_Ile_de_France.html#REVIEWS', 'https://www.tripadvisor.in/ShowUserReviews-g187147-d228694-r924034237-Hotel_Malte_Astotel-Paris_Ile_de_France.html', 'https://www.tripadvisor.in/Hotel_Review-g187147-d229968-Reviews-Hotel_Astra_Opera_Astotel-Paris_Ile_de_France.html', 'https://www.tripadvisor.in/Hotel_Review-g187147-d229968-Reviews-Hotel_Astra_Opera_Astotel-Paris_Ile_de_France.html', 'https://www.tripadvisor.in/Hotel_Review-g187147-d229968-Reviews-Hotel_Astra_Opera_Astotel-Paris_Ile_de_France.html#REVIEWS', 'https://www.tripadvisor.in/ShowUserReviews-g187147-d229968-r944408521-Hotel_Astra_Opera_Astotel-Paris_Ile_de_France.html', 'https://www.tripadvisor.in/Hotel_Review-g187147-d228757-Reviews-Hotel_Maison_Mere-Paris_Ile_de_France.html', 'https://www.tripadvisor.in/Hotel_Review-g187147-d228757-Reviews-Hotel_Maison_Mere-Paris_Ile_de_France.html', 'https://www.tripadvisor.in/Hotel_Review-g187147-d228757-Reviews-Hotel_Maison_Mere-Paris_Ile_de_France.html#REVIEWS', 'https://www.tripadvisor.in/ShowUserReviews-g187147-d228757-r882611012-Hotel_Maison_Mere-Paris_Ile_de_France.html', 'https://www.tripadvisor.in/Hotel_Review-g187147-d230431-Reviews-Hotel_Astoria_Astotel-Paris_Ile_de_France.html', 'https://www.tripadvisor.in/Hotel_Review-g187147-d230431-Reviews-Hotel_Astoria_Astotel-Paris_Ile_de_France.html', 'https://www.tripadvisor.in/Hotel_Review-g187147-d230431-Reviews-Hotel_Astoria_Astotel-Paris_Ile_de_France.html#REVIEWS', 'https://www.tripadvisor.in/ShowUserReviews-g187147-d230431-r886528143-Hotel_Astoria_Astotel-Paris_Ile_de_France.html', 'https://www.tripadvisor.in/Hotel_Review-g187147-d229528-Reviews-Victoria_Palace_Hotel-Paris_Ile_de_France.html', 'https://www.tripadvisor.in/Hotel_Review-g187147-d229528-Reviews-Victoria_Palace_Hotel-Paris_Ile_de_France.html', 'https://www.tripadvisor.in/Hotel_Review-g187147-d229528-Reviews-Victoria_Palace_Hotel-Paris_Ile_de_France.html#REVIEWS', 'https://www.tripadvisor.in/ShowUserReviews-g187147-d229528-r847748517-Victoria_Palace_Hotel-Paris_Ile_de_France.html', 'https://www.tripadvisor.in/Hotel_Review-g187147-d506900-Reviews-Hotel_des_Arts_Montmartre-Paris_Ile_de_France.html', 'https://www.tripadvisor.in/Hotel_Review-g187147-d506900-Reviews-Hotel_des_Arts_Montmartre-Paris_Ile_de_France.html', 'https://www.tripadvisor.in/Hotel_Review-g187147-d506900-Reviews-Hotel_des_Arts_Montmartre-Paris_Ile_de_France.html#REVIEWS', 'https://www.tripadvisor.in/ShowUserReviews-g187147-d506900-r868265785-Hotel_des_Arts_Montmartre-Paris_Ile_de_France.html', 'https://www.tripadvisor.in/Hotel_Review-g187147-d265476-Reviews-Hotel_de_Londres_Eiffel-Paris_Ile_de_France.html', 'https://www.tripadvisor.in/Hotel_Review-g187147-d265476-Reviews-Hotel_de_Londres_Eiffel-Paris_Ile_de_France.html', 'https://www.tripadvisor.in/Hotel_Review-g187147-d265476-Reviews-Hotel_de_Londres_Eiffel-Paris_Ile_de_France.html#REVIEWS', 'https://www.tripadvisor.in/ShowUserReviews-g187147-d265476-r877956866-Hotel_de_Londres_Eiffel-Paris_Ile_de_France.html', 'https://www.tripadvisor.in/Hotel_Review-g187147-d280083-Reviews-B_Montmartre_Hotel-Paris_Ile_de_France.html', 'https://www.tripadvisor.in/Hotel_Review-g187147-d280083-Reviews-B_Montmartre_Hotel-Paris_Ile_de_France.html', 'https://www.tripadvisor.in/Hotel_Review-g187147-d280083-Reviews-B_Montmartre_Hotel-Paris_Ile_de_France.html#REVIEWS', 'https://www.tripadvisor.in/ShowUserReviews-g187147-d280083-r926759588-B_Montmartre_Hotel-Paris_Ile_de_France.html', 'https://www.tripadvisor.in/Hotel_Review-g187147-d276923-Reviews-Best_Western_Plus_La_Demeure-Paris_Ile_de_France.html', 'https://www.tripadvisor.in/Hotel_Review-g187147-d276923-Reviews-Best_Western_Plus_La_Demeure-Paris_Ile_de_France.html', 'https://www.tripadvisor.in/Hotel_Review-g187147-d276923-Reviews-Best_Western_Plus_La_Demeure-Paris_Ile_de_France.html#REVIEWS', 'https://www.tripadvisor.in/ShowUserReviews-g187147-d276923-r887276442-Best_Western_Plus_La_Demeure-Paris_Ile_de_France.html', 'https://www.tripadvisor.in/Hotel_Review-g187147-d228848-Reviews-Hotel_Lorette_Astotel-Paris_Ile_de_France.html', 'https://www.tripadvisor.in/Hotel_Review-g187147-d228848-Reviews-Hotel_Lorette_Astotel-Paris_Ile_de_France.html', 'https://www.tripadvisor.in/Hotel_Review-g187147-d228848-Reviews-Hotel_Lorette_Astotel-Paris_Ile_de_France.html#REVIEWS', 'https://www.tripadvisor.in/ShowUserReviews-g187147-d228848-r880311761-Hotel_Lorette_Astotel-Paris_Ile_de_France.html', 'https://www.tripadvisor.in/Hotel_Review-g187147-d595754-Reviews-Hyatt_Regency_Paris_Etoile-Paris_Ile_de_France.html', 'https://www.tripadvisor.in/Hotel_Review-g187147-d595754-Reviews-Hyatt_Regency_Paris_Etoile-Paris_Ile_de_France.html', 'https://www.tripadvisor.in/Hotel_Review-g187147-d595754-Reviews-Hyatt_Regency_Paris_Etoile-Paris_Ile_de_France.html#REVIEWS', 'https://www.tripadvisor.in/ShowUserReviews-g187147-d595754-r914741399-Hyatt_Regency_Paris_Etoile-Paris_Ile_de_France.html', 'https://www.tripadvisor.in/Hotel_Review-g187147-d264828-Reviews-Hotel_Le_Mareuil-Paris_Ile_de_France.html', 'https://www.tripadvisor.in/Hotel_Review-g187147-d264828-Reviews-Hotel_Le_Mareuil-Paris_Ile_de_France.html', 'https://www.tripadvisor.in/Hotel_Review-g187147-d264828-Reviews-Hotel_Le_Mareuil-Paris_Ile_de_France.html#REVIEWS', 'https://www.tripadvisor.in/ShowUserReviews-g187147-d264828-r821038644-Hotel_Le_Mareuil-Paris_Ile_de_France.html', 'https://www.tripadvisor.in/Hotel_Review-g187147-d315160-Reviews-Passy_Eiffel_Hotel-Paris_Ile_de_France.html', 'https://www.tripadvisor.in/Hotel_Review-g187147-d315160-Reviews-Passy_Eiffel_Hotel-Paris_Ile_de_France.html', 'https://www.tripadvisor.in/Hotel_Review-g187147-d315160-Reviews-Passy_Eiffel_Hotel-Paris_Ile_de_France.html#REVIEWS', 'https://www.tripadvisor.in/ShowUserReviews-g187147-d315160-r918368050-Passy_Eiffel_Hotel-Paris_Ile_de_France.html', 'https://www.tripadvisor.in/Hotel_Review-g187147-d9566832-Reviews-Hotel_34B_Astotel-Paris_Ile_de_France.html', 'https://www.tripadvisor.in/Hotel_Review-g187147-d9566832-Reviews-Hotel_34B_Astotel-Paris_Ile_de_France.html', 'https://www.tripadvisor.in/Hotel_Review-g187147-d9566832-Reviews-Hotel_34B_Astotel-Paris_Ile_de_France.html#REVIEWS', 'https://www.tripadvisor.in/ShowUserReviews-g187147-d9566832-r968086883-Hotel_34B_Astotel-Paris_Ile_de_France.html', 'https://www.tripadvisor.in/Hotel_Review-g187147-d266280-Reviews-Cler_Hotel-Paris_Ile_de_France.html', 'https://www.tripadvisor.in/Hotel_Review-g187147-d266280-Reviews-Cler_Hotel-Paris_Ile_de_France.html', 'https://www.tripadvisor.in/Hotel_Review-g187147-d266280-Reviews-Cler_Hotel-Paris_Ile_de_France.html#REVIEWS', 'https://www.tripadvisor.in/ShowUserReviews-g187147-d266280-r821283906-Cler_Hotel-Paris_Ile_de_France.html', 'https://www.tripadvisor.in/Hotel_Review-g187147-d239623-Reviews-Hotel_Saint_Andre_des_Arts-Paris_Ile_de_France.html', 'https://www.tripadvisor.in/Hotel_Review-g187147-d239623-Reviews-Hotel_Saint_Andre_des_Arts-Paris_Ile_de_France.html', 'https://www.tripadvisor.in/Hotel_Review-g187147-d239623-Reviews-Hotel_Saint_Andre_des_Arts-Paris_Ile_de_France.html#REVIEWS', 'https://www.tripadvisor.in/ShowUserReviews-g187147-d239623-r888869234-Hotel_Saint_Andre_des_Arts-Paris_Ile_de_France.html', 'https://www.tripadvisor.in/Hotel_Review-g187147-d188729-Reviews-Le_Bristol_Paris-Paris_Ile_de_France.html', 'https://www.tripadvisor.in/Hotel_Review-g187147-d188729-Reviews-Le_Bristol_Paris-Paris_Ile_de_France.html', 'https://www.tripadvisor.in/Hotel_Review-g187147-d188729-Reviews-Le_Bristol_Paris-Paris_Ile_de_France.html#REVIEWS', 'https://www.tripadvisor.in/ShowUserReviews-g187147-d188729-r907451420-Le_Bristol_Paris-Paris_Ile_de_France.html', 'https://www.tripadvisor.in/Hotel_Review-g187147-d220000-Reviews-Hotel_Signature_Saint_Germain_des_Pres-Paris_Ile_de_France.html', 'https://www.tripadvisor.in/Hotel_Review-g187147-d220000-Reviews-Hotel_Signature_Saint_Germain_des_Pres-Paris_Ile_de_France.html', 'https://www.tripadvisor.in/Hotel_Review-g187147-d220000-Reviews-Hotel_Signature_Saint_Germain_des_Pres-Paris_Ile_de_France.html#REVIEWS', 'https://www.tripadvisor.in/ShowUserReviews-g187147-d220000-r814421076-Hotel_Signature_Saint_Germain_des_Pres-Paris_Ile_de_France.html', 'https://www.tripadvisor.in/Hotel_Review-g187147-d660743-Reviews-Hotel_Leopold-Paris_Ile_de_France.html', 'https://www.tripadvisor.in/Hotel_Review-g187147-d660743-Reviews-Hotel_Leopold-Paris_Ile_de_France.html', 'https://www.tripadvisor.in/Hotel_Review-g187147-d660743-Reviews-Hotel_Leopold-Paris_Ile_de_France.html#REVIEWS', 'https://www.tripadvisor.in/ShowUserReviews-g187147-d660743-r856838294-Hotel_Leopold-Paris_Ile_de_France.html', 'https://www.tripadvisor.in/Hotel_Review-g187147-d197659-Reviews-Citadines_Tour_Eiffel_Paris-Paris_Ile_de_France.html', 'https://www.tripadvisor.in/Hotel_Review-g187147-d197659-Reviews-Citadines_Tour_Eiffel_Paris-Paris_Ile_de_France.html#REVIEWS', 'https://www.tripadvisor.in/ShowUserReviews-g187147-d197659-r815863713-Citadines_Tour_Eiffel_Paris-Paris_Ile_de_France.html', 'https://www.tripadvisor.in/Hotel_Review-g187147-d1633522-Reviews-Secret_de_Paris_Hotel_Spa-Paris_Ile_de_France.html', 'https://www.tripadvisor.in/Hotel_Review-g187147-d1633522-Reviews-Secret_de_Paris_Hotel_Spa-Paris_Ile_de_France.html', 'https://www.tripadvisor.in/Hotel_Review-g187147-d1633522-Reviews-Secret_de_Paris_Hotel_Spa-Paris_Ile_de_France.html#REVIEWS', 'https://www.tripadvisor.in/ShowUserReviews-g187147-d1633522-r867935227-Secret_de_Paris_Hotel_Spa-Paris_Ile_de_France.html', 'https://www.tripadvisor.in/Hotel_Review-g187147-d197985-Reviews-Pullman_Paris_Tour_Eiffel-Paris_Ile_de_France.html', 'https://www.tripadvisor.in/Hotel_Review-g187147-d197985-Reviews-Pullman_Paris_Tour_Eiffel-Paris_Ile_de_France.html#REVIEWS', 'https://www.tripadvisor.in/ShowUserReviews-g187147-d197985-r885380941-Pullman_Paris_Tour_Eiffel-Paris_Ile_de_France.html', 'https://www.tripadvisor.in/Hotel_Review-g187147-d16711418-Reviews-Ibis_Styles_Paris_Meteor_Avenue_D_Italie-Paris_Ile_de_France.html', 'https://www.tripadvisor.in/Hotel_Review-g187147-d16711418-Reviews-Ibis_Styles_Paris_Meteor_Avenue_D_Italie-Paris_Ile_de_France.html', 'https://www.tripadvisor.in/Hotel_Review-g187147-d16711418-Reviews-Ibis_Styles_Paris_Meteor_Avenue_D_Italie-Paris_Ile_de_France.html#REVIEWS', 'https://www.tripadvisor.in/ShowUserReviews-g187147-d16711418-r850811713-Ibis_Styles_Paris_Meteor_Avenue_D_Italie-Paris_Ile_de_France.html', 'https://www.tripadvisor.in/Hotel_Review-g187147-d233767-Reviews-Campanile_Prime_Paris_19_La_Villette-Paris_Ile_de_France.html', 'https://www.tripadvisor.in/Hotel_Review-g187147-d233767-Reviews-Campanile_Prime_Paris_19_La_Villette-Paris_Ile_de_France.html', 'https://www.tripadvisor.in/Hotel_Review-g187147-d233767-Reviews-Campanile_Prime_Paris_19_La_Villette-Paris_Ile_de_France.html#REVIEWS', 'https://www.tripadvisor.in/ShowUserReviews-g187147-d233767-r914364128-Campanile_Prime_Paris_19_La_Villette-Paris_Ile_de_France.html', 'https://www.tripadvisor.in/Hotel_Review-g187147-d1556692-Reviews-La_Maison_Montparnasse-Paris_Ile_de_France.html', 'https://www.tripadvisor.in/Hotel_Review-g187147-d1556692-Reviews-La_Maison_Montparnasse-Paris_Ile_de_France.html#REVIEWS', 'https://www.tripadvisor.in/ShowUserReviews-g187147-d1556692-r955842393-La_Maison_Montparnasse-Paris_Ile_de_France.html', 'https://www.tripadvisor.in/ShowUserReviews-g187147-d1556692-r955842393-La_Maison_Montparnasse-Paris_Ile_de_France.html', 'https://www.tripadvisor.in/Hotel_Review-g187147-d25547942-Reviews-Bloom_House_Hotel_Spa-Paris_Ile_de_France.html', 'https://www.tripadvisor.in/Hotel_Review-g187147-d25547942-Reviews-Bloom_House_Hotel_Spa-Paris_Ile_de_France.html#REVIEWS', 'https://www.tripadvisor.in/ShowUserReviews-g187147-d25547942-r917588175-Bloom_House_Hotel_Spa-Paris_Ile_de_France.html', 'https://www.tripadvisor.in/Hotel_Review-g187147-d10159593-Reviews-Hotel_La_Comtesse-Paris_Ile_de_France.html', 'https://www.tripadvisor.in/Hotel_Review-g187147-d10159593-Reviews-Hotel_La_Comtesse-Paris_Ile_de_France.html', 'https://www.tripadvisor.in/Hotel_Review-g187147-d10159593-Reviews-Hotel_La_Comtesse-Paris_Ile_de_France.html#REVIEWS', 'https://www.tripadvisor.in/ShowUserReviews-g187147-d10159593-r892822123-Hotel_La_Comtesse-Paris_Ile_de_France.html', 'https://www.tripadvisor.in/Hotel_Review-g187147-d1072845-Reviews-St_Christopher_s_Inn_Canal_Paris-Paris_Ile_de_France.html', 'https://www.tripadvisor.in/Hotel_Review-g187147-d1072845-Reviews-St_Christopher_s_Inn_Canal_Paris-Paris_Ile_de_France.html#REVIEWS', 'https://www.tripadvisor.in/ShowUserReviews-g187147-d1072845-r840118505-St_Christopher_s_Inn_Canal_Paris-Paris_Ile_de_France.html', 'https://www.tripadvisor.in/Hotel_Review-g187147-d228799-Reviews-Pullman_Paris_Montparnasse_Hotel-Paris_Ile_de_France.html', 'https://www.tripadvisor.in/Hotel_Review-g187147-d228799-Reviews-Pullman_Paris_Montparnasse_Hotel-Paris_Ile_de_France.html', 'https://www.tripadvisor.in/Hotel_Review-g187147-d228799-Reviews-Pullman_Paris_Montparnasse_Hotel-Paris_Ile_de_France.html#REVIEWS', 'https://www.tripadvisor.in/ShowUserReviews-g187147-d228799-r962533961-Pullman_Paris_Montparnasse_Hotel-Paris_Ile_de_France.html', 'https://www.tripadvisor.in/Hotel_Review-g187147-d207787-Reviews-Pavillon_Monceau_Hotel-Paris_Ile_de_France.html', 'https://www.tripadvisor.in/Hotel_Review-g187147-d207787-Reviews-Pavillon_Monceau_Hotel-Paris_Ile_de_France.html', 'https://www.tripadvisor.in/Hotel_Review-g187147-d207787-Reviews-Pavillon_Monceau_Hotel-Paris_Ile_de_France.html#REVIEWS', 'https://www.tripadvisor.in/ShowUserReviews-g187147-d207787-r866994453-Pavillon_Monceau_Hotel-Paris_Ile_de_France.html']\n"
     ]
    }
   ],
   "source": [
    "links = []\n",
    "base_url=\"https://www.tripadvisor.in\"\n",
    "for u in soup.findAll('a', {'class': 'BMQDV _F Gv wSSLS SwZTJ FGwzt ukgoS'}):\n",
    "    # Extract the URL from the 'href' attribute\n",
    "    link = u.get('href')\n",
    "    final_url=base_url+ link\n",
    "    links.append(final_url)\n",
    "\n",
    "print(links)\n"
   ]
  },
  {
   "cell_type": "code",
   "execution_count": 20,
   "id": "3a81bb1d-c74f-4a98-b2ae-d9f94f1a8ef1",
   "metadata": {},
   "outputs": [
    {
     "name": "stdout",
     "output_type": "stream",
     "text": [
      "115\n"
     ]
    }
   ],
   "source": [
    "print(len(links))"
   ]
  },
  {
   "cell_type": "code",
   "execution_count": 32,
   "id": "84e5db2e-2f9b-483a-87e6-a5f60167c16b",
   "metadata": {},
   "outputs": [
    {
     "name": "stdout",
     "output_type": "stream",
     "text": [
      "<Response [200]>\n",
      "Hotel Malte Astotel\n"
     ]
    }
   ],
   "source": [
    "url1='https://www.tripadvisor.in/Hotel_Review-g187147-d228694-Reviews-Hotel_Malte_Astotel-Paris_Ile_de_France.html'\n",
    "data1 = requests.get(url1,headers=headers)\n",
    "soup1=BS(data1.content,'html.parser')\n",
    "print(data1)\n",
    "\n",
    "hotel_name1 = soup.find('h1', {'class': 'biGQs _P rRtyp'}).text.strip()\n",
    "print(hotel_name1)\n",
    "\n"
   ]
  },
  {
   "cell_type": "code",
   "execution_count": 60,
   "id": "99976add-b4a2-4dc4-aaf8-e2f7f5ba73fd",
   "metadata": {},
   "outputs": [
    {
     "name": "stdout",
     "output_type": "stream",
     "text": [
      "Scraping reviews for hotel: https://www.tripadvisor.in/ShowUserReviews-g187147-d280083-r926759588-B_Montmartre_Hotel-Paris_Ile_de_France.html\n",
      "Scraping reviews for hotel: https://www.tripadvisor.in/Hotel_Review-g187147-d276923-Reviews-Best_Western_Plus_La_Demeure-Paris_Ile_de_France.html\n",
      "Scraping reviews for hotel: https://www.tripadvisor.in/Hotel_Review-g187147-d276923-Reviews-Best_Western_Plus_La_Demeure-Paris_Ile_de_France.html\n",
      "Scraping reviews for hotel: https://www.tripadvisor.in/Hotel_Review-g187147-d276923-Reviews-Best_Western_Plus_La_Demeure-Paris_Ile_de_France.html#REVIEWS\n",
      "Scraping reviews for hotel: https://www.tripadvisor.in/ShowUserReviews-g187147-d276923-r887276442-Best_Western_Plus_La_Demeure-Paris_Ile_de_France.html\n",
      "Empty DataFrame\n",
      "Columns: []\n",
      "Index: []\n"
     ]
    }
   ],
   "source": [
    "import re\n",
    "import random\n",
    "import time\n",
    "\n",
    "Review_List = []\n",
    "\n",
    "# Step 2: Scrape reviews from each hotel\n",
    "for hotel_url in links[30:35]:  # Traverse only the first 5 hotel URLs\n",
    "    print(f\"Scraping reviews for hotel: {hotel_url}\")\n",
    "    \n",
    "    for i in range(1, 15):  # Adjust the number of review pages as needed\n",
    "        review_page_url = f\"{hotel_url}-or{i * 10}\"\n",
    "        response = requests.get(review_page_url, headers=headers)\n",
    "        soup = BS(response.content, 'html.parser')\n",
    "\n",
    "        # Extract the full hotel name (no slicing)\n",
    "        hname = soup.find('h1', {'class': 'biGQs _P rRtyp'})\n",
    "        if hname and hname.text.strip():\n",
    "            hotel_name = hname.text.strip()\n",
    "        else:\n",
    "            hotel_name = \"Paris Hotel\"\n",
    "\n",
    "        # Extract reviewer names\n",
    "        reviewer_name = []\n",
    "        for rn in soup.findAll('a', {'class': 'blnum BDpWK'}):\n",
    "            reviewer_name.append(rn.text.strip())\n",
    "\n",
    "        # Extracting review content\n",
    "        review = []\n",
    "        for r in soup.findAll('span', {'class': 'JbGkU Cj'}):\n",
    "            review.append(r.text.strip())\n",
    "\n",
    "        # Extracting stay dates\n",
    "        stay_date = []\n",
    "        for d in soup.findAll('span', {'class': 'iSNGb _R Me S4 H3 Cj'}):\n",
    "            sd = d.text.strip()\n",
    "            match1 = re.search(r'\\b[A-Za-z]+\\s\\d{4}\\b', sd)\n",
    "            if match1:\n",
    "                stay_date.append(match1.group(0))\n",
    "\n",
    "        # Extracting ratings\n",
    "        stars = []\n",
    "        for s in soup.findAll('div', {'class': 'IaVba F1'}):\n",
    "            stars.append(s.text.strip())\n",
    "\n",
    "        # Ensure all lists have the same length by truncating them to the minimum length\n",
    "        min_length = min(len(reviewer_name), len(review), len(stay_date), len(stars))\n",
    "\n",
    "        # Truncate only the lists (not the hotel name)\n",
    "        reviewer_name = reviewer_name[:min_length]\n",
    "        review = review[:min_length]\n",
    "        stay_date = stay_date[:min_length]\n",
    "        stars = stars[:min_length]\n",
    "\n",
    "        # Append each complete review set to the Review_List\n",
    "        for j in range(min_length):\n",
    "            Review_List.append({\n",
    "                \"Hotel URL\": hotel_url,\n",
    "                \"Hotel Name\": hotel_name,  # Use the full hotel name directly without slicing\n",
    "                \"Reviewer Name\": reviewer_name[j],\n",
    "                \"Review\": review[j],\n",
    "                \"Stay Date\": stay_date[j],\n",
    "                \"Stars\": stars[j]\n",
    "            })\n",
    "\n",
    "        # Random sleep time to prevent blocking\n",
    "        sleep_time = random.uniform(2, 5)  # Sleep for 2 to 5 seconds\n",
    "        time.sleep(sleep_time)\n",
    "\n",
    "# Step 3: Convert the Review_List to a DataFrame and save it\n",
    "df = pd.DataFrame(Review_List)\n",
    "print(df.head())\n",
    "\n"
   ]
  },
  {
   "cell_type": "code",
   "execution_count": 56,
   "id": "a6ec3d9c-e850-4836-9412-dc54f5b101ff",
   "metadata": {},
   "outputs": [
    {
     "name": "stdout",
     "output_type": "stream",
     "text": [
      "280\n"
     ]
    }
   ],
   "source": [
    "print(len(df))"
   ]
  },
  {
   "cell_type": "code",
   "execution_count": 58,
   "id": "30281521-db13-4fd4-8abd-bfef42ac67ba",
   "metadata": {},
   "outputs": [],
   "source": [
    "df.to_csv(r'C:\\Users\\Shivani\\OneDrive\\Documents\\TA_Reviews3.csv',index= False)"
   ]
  },
  {
   "cell_type": "code",
   "execution_count": null,
   "id": "7a6bb6b5-96e4-42a9-b71b-7c863039f2e5",
   "metadata": {},
   "outputs": [],
   "source": []
  }
 ],
 "metadata": {
  "kernelspec": {
   "display_name": "Python 3 (ipykernel)",
   "language": "python",
   "name": "python3"
  },
  "language_info": {
   "codemirror_mode": {
    "name": "ipython",
    "version": 3
   },
   "file_extension": ".py",
   "mimetype": "text/x-python",
   "name": "python",
   "nbconvert_exporter": "python",
   "pygments_lexer": "ipython3",
   "version": "3.12.4"
  }
 },
 "nbformat": 4,
 "nbformat_minor": 5
}
