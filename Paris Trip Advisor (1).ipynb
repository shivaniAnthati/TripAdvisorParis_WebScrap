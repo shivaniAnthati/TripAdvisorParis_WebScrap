{
 "cells": [
  {
   "cell_type": "code",
   "execution_count": 13,
   "id": "9ebf3ab0-af90-45e0-9782-6eb611e61c60",
   "metadata": {},
   "outputs": [],
   "source": [
    "import requests\n",
    "import pandas as pd\n",
    "from bs4 import BeautifulSoup as BS\n",
    "import csv\n"
   ]
  },
  {
   "cell_type": "code",
   "execution_count": 27,
   "id": "552b3f88-05ed-4583-a04a-3348c5b1d724",
   "metadata": {},
   "outputs": [
    {
     "name": "stdout",
     "output_type": "stream",
     "text": [
      "<Response [200]>\n"
     ]
    }
   ],
   "source": [
    "url=\"https://www.tripadvisor.in/Hotels-g187147-Paris_Ile_de_France-Hotels.html\"\n",
    "headers = {\n",
    "    'User-Agent': 'Mozilla/5.0 (Windows NT 10.0; Win64; x64) AppleWebKit/537.36 (KHTML, like Gecko) Chrome/128.0.0.0 Safari/537.36',\n",
    "     'Referer': 'https://www.google.com/',\n",
    "    'Accept-Language': 'en-US,en;q=0.9',\n",
    "    'Connection': 'keep-alive'\n",
    "}\n",
    "data=requests.get(url,headers=headers)\n",
    "print(data)\n",
    "soup=BS(data.content,'html.parser')"
   ]
  },
  {
   "cell_type": "code",
   "execution_count": 29,
   "id": "3ce3482e-d161-4d67-97f4-8f3533624faf",
   "metadata": {},
   "outputs": [
    {
     "name": "stdout",
     "output_type": "stream",
     "text": [
      "['Hotel Malte Astotel', 'Hôtel Astra Opéra - Astotel', 'Maison Mère', 'Hotel Astoria - Astotel', 'Victoria Palace Hotel', 'Hotel des Arts - Montmartre', 'Hotel de Londres Eiffel', 'Best Western Plus La Demeure', 'B Montmartre Hotel', 'Hyatt Regency Paris Étoile', 'Hotel Lorette - Astotel', 'Hotel Le Mareuil', 'Passy Eiffel Hotel', 'Hotel 34B - Astotel', 'Cler Hotel', 'Hôtel Signature Saint Germain des Près', 'Le Bristol Paris', 'Hôtel Léopold', 'Hôtel Saint-André des Arts', 'Citadines Tour Eiffel Paris', 'Pullman Paris Tour Eiffel', 'Secret de Paris - Hotel & Spa', 'Campanile Prime Paris 19 - La Villette', \"Ibis Styles Paris Météor Avenue D'Italie\", 'La Maison Montparnasse', 'Bloom House Hôtel & Spa', 'Hôtel La Comtesse', \"St Christopher's Inn Canal Paris\", 'Pavillon Monceau Hotel', 'Piapia Hotel']\n"
     ]
    }
   ],
   "source": [
    "import re\n",
    "hotels=[]\n",
    "for name in soup.findAll('div', {'class': 'nBrpc o W'}):\n",
    "        hotel_name = name.text.strip()\n",
    "        new_name = re.sub(r'^\\d+\\.\\s*', '', hotel_name)\n",
    "        hotels.append(new_name)\n",
    "    \n",
    "print(hotels)"
   ]
  },
  {
   "cell_type": "code",
   "execution_count": 31,
   "id": "292a3ce1-1327-434f-85ce-7432ba410139",
   "metadata": {},
   "outputs": [
    {
     "name": "stdout",
     "output_type": "stream",
     "text": [
      "['3,086 reviews', '326 reviews', '886 reviews', '2,650 reviews', '940 reviews', '3,849 reviews', '2,246 reviews', '1,111 reviews', '2,091 reviews', '2,325 reviews', '2,342 reviews', '1,755 reviews', '1,252 reviews', '3,573 reviews', '1,177 reviews', '1,975 reviews', '2,332 reviews', '504 reviews', '336 reviews', '475 reviews', '4,004 reviews', '2,356 reviews', '1,997 reviews', '243 reviews', '630 reviews', '107 reviews', '984 reviews', '1,432 reviews', '551 reviews', '503 reviews']\n"
     ]
    }
   ],
   "source": [
    "reviews=[]\n",
    "for r in soup.findAll('div', {'class': 'luFhX o W f u w JSdbl'}):\n",
    "        reviews.append(r.text.strip())\n",
    "\n",
    "print(reviews)"
   ]
  },
  {
   "cell_type": "code",
   "execution_count": 35,
   "id": "817c7c24-2e78-41b7-97a1-7122d997fe2d",
   "metadata": {},
   "outputs": [
    {
     "name": "stdout",
     "output_type": "stream",
     "text": [
      "['4.0 of 5 bubbles', '5.0 of 5 bubbles', '4.0 of 5 bubbles', '3.0 of 5 bubbles', '2.0 of 5 bubbles', '5.0 of 5 bubbles', '5.0 of 5 bubbles', '5.0 of 5 bubbles', '5.0 of 5 bubbles', '5.0 of 5 bubbles', '5.0 of 5 bubbles', '5.0 of 5 bubbles', '5.0 of 5 bubbles', '5.0 of 5 bubbles', '5.0 of 5 bubbles', '5.0 of 5 bubbles', '5.0 of 5 bubbles', '5.0 of 5 bubbles', '5.0 of 5 bubbles', '5.0 of 5 bubbles', '5.0 of 5 bubbles', '5.0 of 5 bubbles', '5.0 of 5 bubbles', '5.0 of 5 bubbles', '5.0 of 5 bubbles', '4.0 of 5 bubbles', '5.0 of 5 bubbles', '5.0 of 5 bubbles', '5.0 of 5 bubbles', '5.0 of 5 bubbles', '5.0 of 5 bubbles', '5.0 of 5 bubbles', '4.0 of 5 bubbles', '5.0 of 5 bubbles', '5.0 of 5 bubbles']\n"
     ]
    }
   ],
   "source": [
    "ratings=[]\n",
    "for t in soup.findAll('svg', {'class': 'UctUV d H0 hzzSG'}):\n",
    "    rating_text = t.text.strip()\n",
    "    if rating_text:\n",
    "        ratings.append(rating_text)\n",
    "print(ratings)"
   ]
  },
  {
   "cell_type": "code",
   "execution_count": 37,
   "id": "0dac54a7-87c6-4420-a854-76a005aacb80",
   "metadata": {},
   "outputs": [
    {
     "name": "stdout",
     "output_type": "stream",
     "text": [
      "                    Hotel_Name Location           Ratings  No_of_Reviews\n",
      "0          Hotel Malte Astotel    Paris  4.0 of 5 bubbles  3,086 reviews\n",
      "1  Hôtel Astra Opéra - Astotel    Paris  5.0 of 5 bubbles    326 reviews\n",
      "2                  Maison Mère    Paris  4.0 of 5 bubbles    886 reviews\n",
      "3      Hotel Astoria - Astotel    Paris  3.0 of 5 bubbles  2,650 reviews\n",
      "4        Victoria Palace Hotel    Paris  2.0 of 5 bubbles    940 reviews\n"
     ]
    }
   ],
   "source": [
    "import random\n",
    "import time\n",
    "Hotel_List = []\n",
    "\n",
    "for i in range(1, 6):  # Adjust the number of pages as needed\n",
    "    url = f\"{url}?oa={i * 30}\"\n",
    "    response = requests.get(url, headers=headers)\n",
    "    soup = BS(response.content, 'html.parser')\n",
    "    \n",
    "    hotels = []\n",
    "    reviews = []\n",
    "    ratings = []\n",
    "\n",
    "    # Extract hotel names\n",
    "    for name in soup.findAll('div', {'class': 'nBrpc o W'}):\n",
    "        hotel_name = name.text.strip()\n",
    "        new_name = re.sub(r'^\\d+\\.\\s*', '', hotel_name)\n",
    "        hotels.append(new_name)\n",
    "\n",
    "    # Extract reviews count\n",
    "    for r in soup.findAll('div', {'class': 'luFhX o W f u w JSdbl'}):\n",
    "        reviews.append(r.text.strip())\n",
    "\n",
    "    # Extract ratings\n",
    "    for t in soup.findAll('svg', {'class': 'UctUV d H0 hzzSG'}):\n",
    "        rating_text = t.text.strip()\n",
    "        if rating_text:\n",
    "            ratings.append(rating_text)\n",
    "\n",
    "    # Ensure all lists have the same length\n",
    "    for j in range(len(hotels)):\n",
    "        hotel_name = hotels[j] if j < len(hotels) else ''\n",
    "        review_count = reviews[j] if j < len(reviews) else ''\n",
    "        rating = ratings[j] if j < len(ratings) else ''\n",
    "\n",
    "        d2 = {\n",
    "            'Hotel_Name': hotel_name,\n",
    "            'Location': 'Paris',  # Static location for all hotels\n",
    "            'Ratings': rating,\n",
    "            'No_of_Reviews': review_count\n",
    "        }\n",
    "        Hotel_List.append(d2)\n",
    "\n",
    "    # Random sleep time to prevent blocking\n",
    "    sleep_time = random.uniform(2, 5)  # Sleep for 2 to 5 seconds\n",
    "    time.sleep(sleep_time)\n",
    "\n",
    "# Convert list to DataFrame\n",
    "hf = pd.DataFrame(Hotel_List)\n",
    "print(hf.head())\n"
   ]
  },
  {
   "cell_type": "code",
   "execution_count": 39,
   "id": "a359f02c-a8aa-4a34-82de-810c5bad2ded",
   "metadata": {},
   "outputs": [
    {
     "name": "stdout",
     "output_type": "stream",
     "text": [
      "150\n"
     ]
    }
   ],
   "source": [
    "print(len(hf))"
   ]
  },
  {
   "cell_type": "code",
   "execution_count": 41,
   "id": "a5806574-0306-48cd-9eab-f0fc3492df7d",
   "metadata": {},
   "outputs": [],
   "source": [
    "hf.to_csv(r'C:\\Users\\Shivani\\OneDrive\\Documents\\ParisHotel.csv', index=False)"
   ]
  },
  {
   "cell_type": "code",
   "execution_count": 43,
   "id": "8888b7bf-432a-4ccd-8a21-6f4f4a0db787",
   "metadata": {},
   "outputs": [
    {
     "name": "stdout",
     "output_type": "stream",
     "text": [
      "                    Hotel Name     Reviewer Name  \\\n",
      "0  Hôtel Astra Opéra - Astotel             Sue G   \n",
      "1  Hôtel Astra Opéra - Astotel  555travelTime555   \n",
      "2  Hôtel Astra Opéra - Astotel         Coralie A   \n",
      "3  Hôtel Astra Opéra - Astotel         bob_jesus   \n",
      "4  Hôtel Astra Opéra - Astotel        Nathalie I   \n",
      "\n",
      "                                      Review      Stay Date             Stars  \n",
      "0                       We loved this hotel!     April 2024  5.0 of 5 bubbles  \n",
      "1                                 Great stay     March 2024  5.0 of 5 bubbles  \n",
      "2                        Best hotel in Paris      June 2024  5.0 of 5 bubbles  \n",
      "3  A great city break experience in comfort.  February 2024  5.0 of 5 bubbles  \n",
      "4                 Excellent choice for Paris  December 2023  5.0 of 5 bubbles  \n"
     ]
    }
   ],
   "source": [
    "#Extraccting reviews, reviewer name etc from Astra Opera Hotel\n",
    "Review_List = []\n",
    "base_url = 'https://www.tripadvisor.in/Hotel_Review-g187147-d229968-Reviews-'\n",
    "end_url = 'Hotel_Astra_Opera_Astotel-Paris_Ile_de_France.html'\n",
    "\n",
    "for i in range(1, 15):  # Adjust the number of pages as needed\n",
    "    url = f\"{base_url}or{i * 10}-{end_url}\"\n",
    "    response = requests.get(url, headers=headers)\n",
    "    soup = BS(response.content, 'html.parser')\n",
    "\n",
    "    # Extract reviewer names\n",
    "    reviewer_name = []\n",
    "    for rn in soup.findAll('a', {'class': 'blnum BDpWK'}):\n",
    "        reviewer_name.append(rn.text.strip())\n",
    "\n",
    "    # Extracting review content\n",
    "    review = []\n",
    "    for r in soup.findAll('span', {'class': 'JbGkU Cj'}):\n",
    "        review.append(r.text.strip())\n",
    "\n",
    "    # Extracting stay dates\n",
    "    stay_date = []\n",
    "    for d in soup.findAll('span', {'class': 'iSNGb _R Me S4 H3 Cj'}):\n",
    "        sd = d.text.strip()\n",
    "        match1 = re.search(r'\\b[A-Za-z]+\\s\\d{4}\\b', sd)\n",
    "        if match1:\n",
    "            stay_date.append(match1.group(0))\n",
    "\n",
    "    # Extracting ratings\n",
    "    stars = []\n",
    "    for s in soup.findAll('div', {'class': 'IaVba F1'}):\n",
    "        stars.append(s.text.strip())\n",
    "\n",
    "    # Ensure all lists have the same length by truncating them to the minimum length\n",
    "    min_length = min(len(reviewer_name), len(review), len(stay_date), len(stars))\n",
    "\n",
    "    # Truncate all lists to this minimum length\n",
    "    reviewer_name = reviewer_name[:min_length]\n",
    "    review = review[:min_length]\n",
    "    stay_date = stay_date[:min_length]\n",
    "    stars = stars[:min_length]\n",
    "\n",
    "    # Append each complete review set to the Review_List\n",
    "    for j in range(min_length):\n",
    "        Review_List.append({\n",
    "            \"Hotel Name\": 'Hôtel Astra Opéra - Astotel',  # Static hotel name\n",
    "            \"Reviewer Name\": reviewer_name[j],\n",
    "            \"Review\": review[j],\n",
    "            \"Stay Date\": stay_date[j],\n",
    "            \"Stars\": stars[j]\n",
    "        })\n",
    "\n",
    "    # Random sleep time to prevent blocking\n",
    "    sleep_time = random.uniform(2, 5)  # Sleep for 2 to 5 seconds\n",
    "    time.sleep(sleep_time)\n",
    "\n",
    "# Convert list to DataFrame and print\n",
    "df = pd.DataFrame(Review_List)\n",
    "print(df.head())"
   ]
  },
  {
   "cell_type": "code",
   "execution_count": 45,
   "id": "6cfcce8d-eb78-4f5e-a179-515baff7c192",
   "metadata": {},
   "outputs": [
    {
     "name": "stdout",
     "output_type": "stream",
     "text": [
      "140\n"
     ]
    }
   ],
   "source": [
    "print(len(df))"
   ]
  },
  {
   "cell_type": "code",
   "execution_count": 49,
   "id": "0ae7ac64-6bf6-4bff-955d-b7a868acf6c4",
   "metadata": {},
   "outputs": [],
   "source": [
    "df.to_csv(r'C:\\Users\\Shivani\\OneDrive\\Documents\\ParisHotelReviews.csv',index= False)"
   ]
  },
  {
   "cell_type": "code",
   "execution_count": null,
   "id": "6ec70b89-15a6-44a0-bf48-8138a1681577",
   "metadata": {},
   "outputs": [],
   "source": []
  }
 ],
 "metadata": {
  "kernelspec": {
   "display_name": "Python 3 (ipykernel)",
   "language": "python",
   "name": "python3"
  },
  "language_info": {
   "codemirror_mode": {
    "name": "ipython",
    "version": 3
   },
   "file_extension": ".py",
   "mimetype": "text/x-python",
   "name": "python",
   "nbconvert_exporter": "python",
   "pygments_lexer": "ipython3",
   "version": "3.12.4"
  }
 },
 "nbformat": 4,
 "nbformat_minor": 5
}
